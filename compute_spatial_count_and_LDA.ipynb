{
 "cells": [
  {
   "cell_type": "markdown",
   "metadata": {},
   "source": [
    "### **Spatial count, LDA, Clustering, RCN visualization, CSV Export and RCN correlations**  \n",
    "\n",
    "**Author:** Alva Grönholm \n",
    "**Creation Date:** 30.11.2024 \n",
    "**Modification Date:** 27.02.2025  \n",
    "\n",
    "#### **🔹 Purpose**  \n",
    "This notebook computes **spatial counts and LDA**, performs KMeans clustering based on the elbow curve on the spatial count and LDA results, visualizes results (RCNs) from clustering, and plots RCN correlations between the two methods. The clustered spatial count and LDA data is saved as a CSV file for downstream analysis.  \n",
    "\n",
    "### **🔹 Workflow Steps**  \n",
    "\n",
    "1. **Load Data:** Reads `.csv` file and creates an anndata object. Optionally already computed spatial count and LDA data can be loaded.\n",
    "\n",
    "2. **Spatial count:** Computes the **spatial counts**, plots **elbow curves** and uses **Kneelocator** to find the optimal number of clusters. Performs **KMeans clustering** on the spatial count data and plots the results as **barplots**.   \n",
    "\n",
    "3. **LDA:** Computes the **LDA**, plots **elbow curves** and uses **Kneelocator** to find the optimal number of clusters. Performs **KMeans clustering** on the LDA data and plots the results as **barplots**.\n",
    "\n",
    "4. **Visualization:**  \n",
    "   - **Spatial count** RCNs for different `radii`\n",
    "   - **LDA** RCNs for different `radii`\n",
    "   - **Phenotypes** \n",
    "   \n",
    "---\n",
    "\n"
   ]
  },
  {
   "cell_type": "code",
   "execution_count": 1,
   "metadata": {},
   "outputs": [
    {
     "name": "stdout",
     "output_type": "stream",
     "text": [
      "Running SCIMAP  2.1.3\n"
     ]
    },
    {
     "name": "stderr",
     "output_type": "stream",
     "text": [
      "c:\\Users\\Localadmin_kangzigi\\.conda\\envs\\scimap_nki\\lib\\site-packages\\tqdm\\auto.py:21: TqdmWarning:\n",
      "\n",
      "IProgress not found. Please update jupyter and ipywidgets. See https://ipywidgets.readthedocs.io/en/stable/user_install.html\n",
      "\n"
     ]
    }
   ],
   "source": [
    "#Loading libraries\n",
    "import scimap as sm\n",
    "import anndata as ad\n",
    "import pandas as pd\n",
    "import numpy as np\n",
    "from sklearn.neighbors import BallTree\n",
    "from joblib import Parallel, delayed\n",
    "import scipy\n",
    "import matplotlib.pyplot as plt\n",
    "\n",
    "from sklearn.cluster import KMeans\n",
    "from yellowbrick.cluster import KElbowVisualizer\n",
    "import multiprocessing as mp\n",
    "import seaborn as sns\n",
    "from bokeh.plotting import figure, output_file, show \n",
    "from bokeh.palettes import Category10, Category20, Category20b, Category20\n",
    "from scipy.stats import pearsonr\n",
    "from statsmodels.stats.multitest import multipletests"
   ]
  },
  {
   "cell_type": "markdown",
   "metadata": {},
   "source": [
    "# Load data"
   ]
  },
  {
   "cell_type": "code",
   "execution_count": 4,
   "metadata": {},
   "outputs": [],
   "source": [
    "#Split into data and meta\n",
    "marker_list= ['CyclinE', 'pRb', 'CyclinA', 'CD11c', 'p27','Vimentin', 'DNA5', 'TIM-3', 'PanCK', 'Wee1', 'CD163', 'CyclinD1', 'p21', 'pH3', 'CD45',\n",
    "              'MPM-2', 'pRPA', 'pStat1', 'CD20', 'PCNA', 'Geminin', 'gH2Ax', 'CD4', 'aSMA', 'CD8a', 'Iba1', 'PAX8', 'Ki67', 'FOX-P3', 'CD31', 'CD4']\n",
    "\n",
    "data = df[marker_list]\n",
    "meta = df.drop(columns=marker_list)"
   ]
  },
  {
   "cell_type": "code",
   "execution_count": 4,
   "metadata": {},
   "outputs": [],
   "source": [
    "#Split into data and meta\n",
    "marker_list= ['CD11c', 'Vimentin', 'PanCK', 'CD163', 'CD45', 'CD4', 'aSMA', 'CD8a', 'Iba1', 'PAX8', 'FOX-P3', 'CD31', 'CD20']\n",
    "\n",
    "data = df[marker_list]\n",
    "meta = df.drop(columns=marker_list)"
   ]
  },
  {
   "cell_type": "code",
   "execution_count": 5,
   "metadata": {},
   "outputs": [
    {
     "name": "stderr",
     "output_type": "stream",
     "text": [
      "c:\\Users\\Localadmin_kangzigi\\.conda\\envs\\scimap_nki\\lib\\site-packages\\anndata\\_core\\aligned_df.py:67: ImplicitModificationWarning:\n",
      "\n",
      "Transforming to str index.\n",
      "\n"
     ]
    }
   ],
   "source": [
    "adata = ad.AnnData (data)\n",
    "adata.obs = meta"
   ]
  },
  {
   "cell_type": "code",
   "execution_count": 6,
   "metadata": {},
   "outputs": [],
   "source": [
    "# Create a globally unique cell ID by combining 'imageid' and 'CellID'\n",
    "adata.obs['Global_CellID'] = adata.obs['imageid'].astype(str) + \"_\" + adata.obs['CellID'].astype(str)\n",
    "\n",
    "# Set this new identifier as the index\n",
    "adata.obs.set_index('Global_CellID', inplace=True)"
   ]
  },
  {
   "cell_type": "markdown",
   "metadata": {},
   "source": [
    "# Exploration of markers for phenotyping"
   ]
  },
  {
   "cell_type": "code",
   "execution_count": null,
   "metadata": {},
   "outputs": [],
   "source": [
    "# Heatmap \n",
    "sm.pl.heatmap(adata, groupBy='phenotype', standardScale='row', figsize=(10,5), showPrevalence=True, cmap = 'coolwarm', vmin=-2, vmax = 2)"
   ]
  },
  {
   "cell_type": "markdown",
   "metadata": {},
   "source": [
    "# Spatial count "
   ]
  },
  {
   "cell_type": "code",
   "execution_count": null,
   "metadata": {},
   "outputs": [],
   "source": [
    "# Analyze spatial relationships using the radius method\n",
    "\n",
    "# 40px = 13 micrometer\n",
    "adata = sm.tl.spatial_count(adata, x_coordinate='X_centroid', y_coordinate='Y_centroid', imageid='imageid', phenotype='phenotype', method='radius', radius=40, label='spatial_count_40')\n",
    "# 77px = 25 micrometer\n",
    "adata = sm.tl.spatial_count(adata, x_coordinate='X_centroid', y_coordinate='Y_centroid', imageid='imageid', phenotype='phenotype', method='radius', radius=77, label='spatial_count_77')\n",
    "# 108px = 35 micrometer\n",
    "adata = sm.tl.spatial_count(adata, x_coordinate='X_centroid', y_coordinate='Y_centroid', imageid='imageid', phenotype='phenotype', method='radius', radius=108, label='spatial_count_108')"
   ]
  },
  {
   "cell_type": "markdown",
   "metadata": {},
   "source": [
    "### Spatial count with results in counts (not percentage)"
   ]
  },
  {
   "cell_type": "code",
   "execution_count": 33,
   "metadata": {},
   "outputs": [],
   "source": [
    "##Function to count the number of knn cells or cells in a radious\n",
    "#It returns the actual number of cells of each cell_type, instead of the fraction of neighboors of each cell_type\n",
    "def spatial_count_internal (adata_subset,x_coordinate,y_coordinate,phenotype,method,radius,knn,\n",
    "                                subset,label,imageid):\n",
    "        # Create a DataFrame with the necessary inforamtion\n",
    "        data = pd.DataFrame({'x': adata_subset.obs[x_coordinate], 'y': adata_subset.obs[y_coordinate], 'phenotype': adata_subset.obs[phenotype]})\n",
    "\n",
    "        # Identify neighbourhoods based on the method used\n",
    "        # a) KNN method\n",
    "        if method == 'knn':\n",
    "            print(\"Identifying the \" + str(knn) + \" nearest neighbours for every cell\")\n",
    "            tree = BallTree(data[['x','y']], leaf_size= 2)\n",
    "            ind = tree.query(data[['x','y']], k=knn, return_distance= False)\n",
    "            neighbours = pd.DataFrame(ind.tolist(), index = data.index) # neighbour DF\n",
    "            neighbours.drop(0, axis=1, inplace=True) # Remove self neighbour\n",
    "\n",
    "        # b) Local radius method\n",
    "        if method == 'radius':\n",
    "            print(\"Identifying neighbours within \" + str(radius) + \" pixels of every cell\")\n",
    "            kdt = BallTree(data[['x','y']], metric='euclidean') \n",
    "            ind = kdt.query_radius(data[['x','y']], r=radius, return_distance=False)\n",
    "            for i in range(0, len(ind)): ind[i] = np.delete(ind[i], np.argwhere(ind[i] == i))#remove self\n",
    "            neighbours = pd.DataFrame(ind.tolist(), index = data.index) # neighbour DF\n",
    "\n",
    "        # Map phenotype\n",
    "        phenomap = dict(zip(list(range(len(ind))), data['phenotype'])) # Used for mapping\n",
    "\n",
    "        # Loop through (all functionized methods were very slow)\n",
    "        for i in neighbours.columns:\n",
    "            neighbours[i] = neighbours[i].dropna().map(phenomap, na_action='ignore')\n",
    "\n",
    "        # Drop NA\n",
    "        #n_dropped = neighbours.dropna(how='all')\n",
    "\n",
    "        # Collapse all the neighbours into a single column\n",
    "        n = pd.DataFrame(neighbours.stack(), columns = [\"neighbour_phenotype\"])\n",
    "        n.index = n.index.get_level_values(0) # Drop the multi index\n",
    "        n = pd.DataFrame(n)\n",
    "        n['order'] = list(range(len(n)))\n",
    "\n",
    "        # Merge with real phenotype\n",
    "        n_m = n.merge(data['phenotype'], how='inner', left_index=True, right_index=True)\n",
    "        n_m['neighbourhood'] = n_m.index\n",
    "        n = n_m.sort_values(by=['order'])\n",
    "\n",
    "        # Normalize based on total cell count\n",
    "        k = n.groupby(['neighbourhood','neighbour_phenotype']).size().unstack().fillna(0)\n",
    "        #k = k.div(k.sum(axis=1), axis=0)\n",
    "\n",
    "        # return the normalized neighbour occurance count\n",
    "        return k\n",
    "    \n",
    "def spatial_count2 (adata,\n",
    "                   x_coordinate='X_centroid',\n",
    "                   y_coordinate='Y_centroid',\n",
    "                   phenotype='phenotype',\n",
    "                   method='radius',\n",
    "                   radius=30,knn=10,\n",
    "                   imageid='imageid',\n",
    "                   subset=None,\n",
    "                   label='spatial_count'):\n",
    "    \n",
    "    # Subset a particular image if needed\n",
    "    if subset is not None:\n",
    "        adata_list = [adata[adata.obs[imageid] == subset]]\n",
    "    else:\n",
    "        adata_list = [adata[adata.obs[imageid] == i] for i in adata.obs[imageid].unique()]\n",
    "\n",
    "    # Apply function to all images and create a master dataframe\n",
    "    # Create lamda function \n",
    "    r_spatial_count_internal = lambda x: spatial_count_internal(adata_subset=x,x_coordinate=x_coordinate,\n",
    "                                                   y_coordinate=y_coordinate,phenotype=phenotype,\n",
    "                                                   method=method,radius=radius,knn=knn,\n",
    "                                                   imageid=imageid,subset=subset,label=label) \n",
    "    all_data = list(map(r_spatial_count_internal, adata_list)) # Apply function \n",
    "\n",
    "\n",
    "    # Merge all the results into a single dataframe    \n",
    "    result = []\n",
    "    for i in range(len(all_data)):\n",
    "        result.append(all_data[i])\n",
    "    result = pd.concat(result, join='outer')  \n",
    "\n",
    "    # Reindex the cells\n",
    "    result = result.fillna(0)\n",
    "    result = result.reindex(adata.obs.index)\n",
    "\n",
    "    # Add to adata\n",
    "    adata.uns[label] = result\n",
    "\n",
    "    # Return        \n",
    "    return adata"
   ]
  },
  {
   "cell_type": "code",
   "execution_count": null,
   "metadata": {},
   "outputs": [],
   "source": [
    "# Spatial count with radiuses 40, 77 and 108 px - returning actual number of neighbouring cells\n",
    "\n",
    "#For radious of 40px (13 microns)\n",
    "adata = spatial_count2(adata, x_coordinate='X_centroid', y_coordinate='Y_centroid', phenotype='phenotype', method='radius', radius=40, subset=None, label='spatial_count_40_count', knn=None)\n",
    "#For radious of 77px (25 microns)\n",
    "adata = spatial_count2(adata, x_coordinate='X_centroid', y_coordinate='Y_centroid', phenotype='phenotype', method='radius', radius=77, subset=None, label='spatial_count_77_count', knn=None)\n",
    "#For radious of 108px (35 microns)\n",
    "adata = spatial_count2(adata, x_coordinate='X_centroid', y_coordinate='Y_centroid', phenotype='phenotype', method='radius', radius=108, subset=None, label='spatial_count_108_count', knn=None)"
   ]
  },
  {
   "cell_type": "code",
   "execution_count": null,
   "metadata": {},
   "outputs": [],
   "source": [
    "# Function to prepare data for combined distribution plot\n",
    "def prepare_data(df, phenotype_df, phenotype_filter, label):\n",
    "    filtered_df = df[phenotype_df[\"phenotype\"].isin(phenotype_filter)]\n",
    "    total_neighbors = filtered_df.sum(axis=1)  # Sum across columns to get total neighbors per cell\n",
    "    return pd.DataFrame({\"Total Neighbors\": total_neighbors, \"Radius\": label, \"Phenotype\": phenotype_filter[0] if len(phenotype_filter) == 1 else \" & \".join(phenotype_filter)})\n",
    "\n",
    "# Extract and convert to DataFrame\n",
    "df_phenotype = pd.DataFrame(adata.obs[\"phenotype\"])  # Extract phenotype information\n",
    "df_40 = pd.DataFrame(adata.uns[\"spatial_count_40_count\"])\n",
    "df_77 = pd.DataFrame(adata.uns[\"spatial_count_77_count\"])\n",
    "df_108 = pd.DataFrame(adata.uns[\"spatial_count_108_count\"])\n",
    "\n",
    "# Define phenotype groups\n",
    "phenotype_groups = {\n",
    "    \"Tumor\": [\"Tumor\"],\n",
    "    \"Stroma\": [\"Stromal\"],\n",
    "    \"CD4+ & CD8+ T Cells\": [\"CD8_T_cells\", \"CD4_T_cells\"],\n",
    "    \"CD163+ & CD163- Macrophages\": [\"CD163_pos_Macrophages\", \"CD163_neg_Macrophages\"]\n",
    "}\n",
    "\n",
    "# Prepare data for each phenotype\n",
    "combined_data = {}\n",
    "for phenotype_label, phenotype_filter in phenotype_groups.items():\n",
    "    data = []\n",
    "    data.append(prepare_data(df_40, df_phenotype, phenotype_filter, \"13µm\"))\n",
    "    data.append(prepare_data(df_77, df_phenotype, phenotype_filter, \"25µm\"))\n",
    "    data.append(prepare_data(df_108, df_phenotype, phenotype_filter, \"35µm\"))\n",
    "    combined_data[phenotype_label] = pd.concat(data)\n",
    "\n",
    "# Set up separate boxplots for each phenotype\n",
    "sns.set_style(\"whitegrid\")\n",
    "fig, axes = plt.subplots(2, 2, figsize=(8, 7))\n",
    "axes = axes.flatten()\n",
    "\n",
    "custom_colors = [\"#AED581\", \"#FFB877\", \"#C39BD3\"] \n",
    "\n",
    "for i, (phenotype_label, df) in enumerate(combined_data.items()):\n",
    "    sns.boxplot(x=\"Radius\", y=\"Total Neighbors\", data=df, palette=custom_colors, ax=axes[i], showfliers=False)\n",
    "    #medians = df.groupby(\"Radius\")[\"Total Neighbors\"].median()\n",
    "    #for j, median in enumerate(medians): axes[i].text(j, median + 1, f'{median:.1f}', ha='center', color='black', fontsize=10)\n",
    "    \n",
    "    axes[i].set_title(f\"{phenotype_label}\")\n",
    "    axes[i].set_xlabel(\"\")\n",
    "    axes[i].set_ylabel(\"Total neighbor count\")\n",
    "    axes[i].tick_params(axis='x', rotation=0)\n",
    "\n",
    "plt.tight_layout()\n",
    "plt.savefig(\"\", format=\"pdf\", bbox_inches=\"tight\")  # Save as PDF\n",
    "plt.show()\n"
   ]
  },
  {
   "cell_type": "code",
   "execution_count": null,
   "metadata": {},
   "outputs": [],
   "source": [
    "# Function to plot neighboring cell distributions\n",
    "def plot_neighbor_counts(df, title):\n",
    "    total_neighbors = df.sum(axis=1)  # Sum across columns to get total neighbors per cell\n",
    "    unique, counts = np.unique(total_neighbors, return_counts=True)  # Count occurrences\n",
    "    \n",
    "    plt.figure(figsize=(25, 6))\n",
    "    sns.barplot(x=unique, y=counts, color=\"skyblue\")\n",
    "\n",
    "    # Annotate bars with actual counts\n",
    "    for i, count in enumerate(counts):\n",
    "        plt.text(i, count + 2, str(count), ha='center', fontsize=8)\n",
    "\n",
    "    plt.xlabel(\"Total Number of Neighboring Cells\")\n",
    "    plt.ylabel(\"Count\")\n",
    "    plt.title(title)\n",
    "    plt.xticks(rotation=45)\n",
    "    plt.grid(axis='y', linestyle='--', alpha=0.7)\n",
    "    plt.show()\n",
    "\n",
    "# Extract and convert to DataFrame\n",
    "df_40 = pd.DataFrame(adata.uns[\"spatial_count_40_count\"]) \n",
    "df_77 = pd.DataFrame(adata.uns[\"spatial_count_77_count\"])\n",
    "df_108 = pd.DataFrame(adata.uns[\"spatial_count_108_count\"])\n",
    "\n",
    "# Plot distributions\n",
    "plot_neighbor_counts(df_40, \"Neighbor Count Distribution (40px, 13 microns)\")\n",
    "plot_neighbor_counts(df_77, \"Neighbor Count Distribution (77px, 25 microns)\")\n",
    "plot_neighbor_counts(df_108, \"Neighbor Count Distribution (108px, 35 microns)\")\n"
   ]
  },
  {
   "cell_type": "markdown",
   "metadata": {},
   "source": [
    "## Clustering of spatial count results"
   ]
  },
  {
   "cell_type": "markdown",
   "metadata": {},
   "source": [
    "### Elbow curves"
   ]
  },
  {
   "cell_type": "code",
   "execution_count": null,
   "metadata": {},
   "outputs": [],
   "source": [
    "from sklearn.cluster import KMeans\n",
    "from yellowbrick.cluster import KElbowVisualizer\n",
    "from kneed import KneeLocator\n",
    "import numpy as np\n",
    "import matplotlib.pyplot as plt\n",
    "\n",
    "# Define the range of k values\n",
    "k_range = range(2, 56)\n",
    "\n",
    "# Fit KMeans and collect distortion values\n",
    "distortions = []\n",
    "for k in k_range:\n",
    "    km = KMeans(n_clusters=k, random_state=20)\n",
    "    km.fit(adata.uns['spatial_count_40'].fillna(0))\n",
    "    distortions.append(km.inertia_)  # Inertia = distortion score\n",
    "\n",
    "# Use KneeLocator to find the optimal k\n",
    "kl = KneeLocator(k_range, distortions, curve=\"convex\", direction=\"decreasing\")\n",
    "\n",
    "# Print the optimal k\n",
    "print(f\"Optimal k found: {kl.elbow}\")\n",
    "\n",
    "# Plot elbow curve with knee marked\n",
    "plt.figure(figsize=(8, 6))\n",
    "plt.plot(k_range, distortions, 'bo-', markersize=5, label=\"Distortion\")\n",
    "plt.axvline(x=kl.elbow, color='r', linestyle=\"--\", label=f\"Optimal k = {kl.elbow}\")\n",
    "plt.xlabel(\"Number of Clusters (k)\")\n",
    "plt.ylabel(\"Distortion (Inertia)\")\n",
    "plt.title(\"Elbow Curve with KneeLocator, spatial count 13 microns\")\n",
    "plt.legend()\n",
    "# Save as PDF\n",
    "plt.savefig(\"\", format=\"pdf\")\n",
    "\n",
    "plt.show()\n"
   ]
  },
  {
   "cell_type": "code",
   "execution_count": null,
   "metadata": {},
   "outputs": [],
   "source": [
    "# Define the range of k values\n",
    "k_range = range(2, 56)\n",
    "\n",
    "# Fit KMeans and collect distortion values\n",
    "distortions = []\n",
    "for k in k_range:\n",
    "    km = KMeans(n_clusters=k, random_state=20)\n",
    "    km.fit(adata.uns['spatial_count_77'].fillna(0))\n",
    "    distortions.append(km.inertia_)  # Inertia = distortion score\n",
    "\n",
    "# Use KneeLocator to find the optimal k\n",
    "kl = KneeLocator(k_range, distortions, curve=\"convex\", direction=\"decreasing\")\n",
    "\n",
    "# Print the optimal k\n",
    "print(f\"Optimal k found: {kl.elbow}\")\n",
    "\n",
    "# Plot elbow curve with knee marked\n",
    "plt.figure(figsize=(8, 6))\n",
    "plt.plot(k_range, distortions, 'bo-', markersize=5, label=\"Distortion\")\n",
    "plt.axvline(x=kl.elbow, color='r', linestyle=\"--\", label=f\"Optimal k = {kl.elbow}\")\n",
    "plt.xlabel(\"Number of Clusters (k)\")\n",
    "plt.ylabel(\"Distortion (Inertia)\")\n",
    "plt.title(\"Elbow Curve with KneeLocator, spatial count 25 microns\")\n",
    "plt.legend()\n",
    "# Save as PDF\n",
    "plt.savefig(\"\", format=\"pdf\")\n",
    "plt.show()\n"
   ]
  },
  {
   "cell_type": "code",
   "execution_count": null,
   "metadata": {},
   "outputs": [],
   "source": [
    "# Define the range of k values\n",
    "k_range = range(2, 56)\n",
    "\n",
    "# Fit KMeans and collect distortion values\n",
    "distortions = []\n",
    "for k in k_range:\n",
    "    km = KMeans(n_clusters=k, random_state=20)\n",
    "    km.fit(adata.uns['spatial_count_108'].fillna(0))\n",
    "    distortions.append(km.inertia_)  # Inertia = distortion score\n",
    "\n",
    "# Use KneeLocator to find the optimal k\n",
    "kl = KneeLocator(k_range, distortions, curve=\"convex\", direction=\"decreasing\")\n",
    "\n",
    "# Print the optimal k\n",
    "print(f\"Optimal k found: {kl.elbow}\")\n",
    "\n",
    "# Plot elbow curve with knee marked\n",
    "plt.figure(figsize=(8, 6))\n",
    "plt.plot(k_range, distortions, 'bo-', markersize=5, label=\"Distortion\")\n",
    "plt.axvline(x=kl.elbow, color='r', linestyle=\"--\", label=f\"Optimal k = {kl.elbow}\")\n",
    "plt.xlabel(\"Number of Clusters (k)\")\n",
    "plt.ylabel(\"Distortion (Inertia)\")\n",
    "plt.title(\"Elbow Curve with KneeLocator, spatial count 35 microns\")\n",
    "plt.legend()\n",
    "# Save as PDF\n",
    "plt.savefig(\"\", format=\"pdf\")\n",
    "plt.show()\n"
   ]
  },
  {
   "cell_type": "markdown",
   "metadata": {},
   "source": [
    "### KMeans clustering"
   ]
  },
  {
   "cell_type": "code",
   "execution_count": null,
   "metadata": {},
   "outputs": [],
   "source": [
    "# Apply K-Means clustering, k based on elbow curve the optimal k from kneelocator\n",
    "\n",
    "# Radius 40px\n",
    "adata = sm.tl.spatial_cluster(adata, df_name=\"spatial_count_40\", method='kmeans', k=15, random_state=22, label='spatial_count_40_k15')\n",
    "# Radius 77px\n",
    "adata = sm.tl.spatial_cluster(adata, df_name=\"spatial_count_77\", method='kmeans', k=12, random_state=22, label='spatial_count_77_k12')\n",
    "# Radius 108px\n",
    "adata = sm.tl.spatial_cluster(adata, df_name=\"spatial_count_108\", method='kmeans', k=13, random_state=22, label='spatial_count_108_k13')"
   ]
  },
  {
   "cell_type": "code",
   "execution_count": null,
   "metadata": {},
   "outputs": [],
   "source": [
    "# Apply K-Means clustering, k=10 based on elbow curve\n",
    "\n",
    "# Radius 40px\n",
    "adata = sm.tl.spatial_cluster(adata, df_name=\"spatial_count_40\", method='kmeans', k=10, random_state=22, label='spatial_count_40_k10')\n",
    "# Radius 77px\n",
    "adata = sm.tl.spatial_cluster(adata, df_name=\"spatial_count_77\", method='kmeans', k=10, random_state=22, label='spatial_count_77_k10')\n",
    "# Radius 108px\n",
    "adata = sm.tl.spatial_cluster(adata, df_name=\"spatial_count_108\", method='kmeans', k=10, random_state=22, label='spatial_count_108_k10')"
   ]
  },
  {
   "cell_type": "markdown",
   "metadata": {},
   "source": [
    "### Barplots of K-Means clustering results"
   ]
  },
  {
   "cell_type": "code",
   "execution_count": null,
   "metadata": {},
   "outputs": [],
   "source": [
    "# Barplot of phenotype proportions in clusters\n",
    "sm.pl.stacked_barplot(adata, x_axis='spatial_count_40_k15', y_axis='phenotype', subset_xaxis=None, subset_yaxis=None, order_xaxis=None, order_yaxis=None, method='percent', plot_tool='matplotlib', matplotlib_cmap=None, matplotlib_bbox_to_anchor=(1, 1.02), matplotlib_legend_loc=2, return_data=False)"
   ]
  },
  {
   "cell_type": "code",
   "execution_count": null,
   "metadata": {},
   "outputs": [],
   "source": [
    "# Barplot of phenotype proportions in clusters\n",
    "sm.pl.stacked_barplot(adata, x_axis='spatial_count_77_k12', y_axis='phenotype', subset_xaxis=None, subset_yaxis=None, order_xaxis=None, order_yaxis=None, method='percent', plot_tool='matplotlib', matplotlib_cmap=None, matplotlib_bbox_to_anchor=(1, 1.02), matplotlib_legend_loc=2, return_data=False)"
   ]
  },
  {
   "cell_type": "code",
   "execution_count": null,
   "metadata": {},
   "outputs": [],
   "source": [
    "# Barplot of phenotype proportions in clusters\n",
    "sm.pl.stacked_barplot(adata, x_axis='spatial_count_108_k13', y_axis='phenotype', subset_xaxis=None, subset_yaxis=None, order_xaxis=None, order_yaxis=None, method='percent', plot_tool='matplotlib', matplotlib_cmap=None, matplotlib_bbox_to_anchor=(1, 1.02), matplotlib_legend_loc=2, return_data=False)"
   ]
  },
  {
   "cell_type": "code",
   "execution_count": null,
   "metadata": {},
   "outputs": [],
   "source": [
    "# Barplot of proportion of cluster in each sample\n",
    "sm.pl.stacked_barplot(adata, x_axis='imageid', y_axis='spatial_count_77_k10', subset_xaxis=None, subset_yaxis=None, order_xaxis=None, order_yaxis=None, method='percent', plot_tool='matplotlib', matplotlib_cmap=None, matplotlib_bbox_to_anchor=(1, 1.02), matplotlib_legend_loc=2, return_data=False)"
   ]
  },
  {
   "cell_type": "markdown",
   "metadata": {},
   "source": [
    "# Spatial LDA"
   ]
  },
  {
   "cell_type": "code",
   "execution_count": null,
   "metadata": {},
   "outputs": [],
   "source": [
    "# LDA, number of latent_motifs = 10\n",
    "\n",
    "# Radius 40px (13 microns)\n",
    "adata = sm.tl.spatial_lda(adata, method='radius', radius=40, label='spatial_lda_40', random_state=8)\n",
    "# Radius 77px (25 microns)\n",
    "adata = sm.tl.spatial_lda(adata, method='radius', radius=77, label='spatial_lda_77', random_state=10)\n",
    "# Radius 108px (35 microns)\n",
    "adata = sm.tl.spatial_lda(adata, method='radius', radius=108, label='spatial_lda_108', random_state=12)"
   ]
  },
  {
   "cell_type": "markdown",
   "metadata": {},
   "source": [
    "## Clustering of LDA results"
   ]
  },
  {
   "cell_type": "markdown",
   "metadata": {},
   "source": [
    "### Elbow curves"
   ]
  },
  {
   "cell_type": "code",
   "execution_count": null,
   "metadata": {},
   "outputs": [],
   "source": [
    "from sklearn.cluster import KMeans\n",
    "from yellowbrick.cluster import KElbowVisualizer\n",
    "from kneed import KneeLocator\n",
    "import numpy as np\n",
    "import matplotlib.pyplot as plt\n",
    "\n",
    "# Define the range of k values\n",
    "k_range = range(2, 56)\n",
    "\n",
    "# Fit KMeans and collect distortion values\n",
    "distortions = []\n",
    "for k in k_range:\n",
    "    km = KMeans(n_clusters=k, random_state=20)\n",
    "    km.fit(adata.uns['spatial_lda_40'].fillna(0))\n",
    "    distortions.append(km.inertia_)  # Inertia = distortion score\n",
    "\n",
    "# Use KneeLocator to find the optimal k\n",
    "kl = KneeLocator(k_range, distortions, curve=\"convex\", direction=\"decreasing\")\n",
    "\n",
    "# Print the optimal k\n",
    "print(f\"Optimal k found: {kl.elbow}\")\n",
    "\n",
    "# Plot elbow curve with knee marked\n",
    "plt.figure(figsize=(8, 6))\n",
    "plt.plot(k_range, distortions, 'bo-', markersize=5, label=\"Distortion\")\n",
    "plt.axvline(x=kl.elbow, color='r', linestyle=\"--\", label=f\"Optimal k = {kl.elbow}\")\n",
    "plt.xlabel(\"Number of Clusters (k)\")\n",
    "plt.ylabel(\"Distortion (Inertia)\")\n",
    "plt.title(\"Elbow Curve with KneeLocator\")\n",
    "plt.legend()\n",
    "# Save as PDF\n",
    "plt.savefig(\"\", format=\"pdf\")\n",
    "plt.show()"
   ]
  },
  {
   "cell_type": "code",
   "execution_count": null,
   "metadata": {},
   "outputs": [],
   "source": [
    "from sklearn.cluster import KMeans\n",
    "from yellowbrick.cluster import KElbowVisualizer\n",
    "from kneed import KneeLocator\n",
    "import numpy as np\n",
    "import matplotlib.pyplot as plt# Define the range of k values\n",
    "k_range = range(2, 56)\n",
    "\n",
    "# Fit KMeans and collect distortion values\n",
    "distortions = []\n",
    "for k in k_range:\n",
    "    km = KMeans(n_clusters=k, random_state=20)\n",
    "    km.fit(adata.uns['spatial_lda_77'].fillna(0))\n",
    "    distortions.append(km.inertia_)  # Inertia = distortion score\n",
    "\n",
    "# Use KneeLocator to find the optimal k\n",
    "kl = KneeLocator(k_range, distortions, curve=\"convex\", direction=\"decreasing\")\n",
    "\n",
    "# Print the optimal k\n",
    "print(f\"Optimal k found: {kl.elbow}\")\n",
    "\n",
    "# Plot elbow curve with knee marked\n",
    "plt.figure(figsize=(8, 6))\n",
    "plt.plot(k_range, distortions, 'bo-', markersize=5, label=\"Distortion\")\n",
    "plt.axvline(x=kl.elbow, color='r', linestyle=\"--\", label=f\"Optimal k = {kl.elbow}\")\n",
    "plt.xlabel(\"Number of Clusters (k)\")\n",
    "plt.ylabel(\"Distortion (Inertia)\")\n",
    "plt.title(\"Elbow Curve with KneeLocator (LDA 25 microns)\")\n",
    "plt.legend()\n",
    "# Save as PDF\n",
    "plt.savefig(\"F:/Alva/Final_spatial_analysis_plots/elbow_lda_25_microns_2.pdf\", format=\"pdf\")\n",
    "plt.show()"
   ]
  },
  {
   "cell_type": "code",
   "execution_count": null,
   "metadata": {},
   "outputs": [],
   "source": [
    "# Define the range of k values\n",
    "k_range = range(2, 56)\n",
    "\n",
    "# Fit KMeans and collect distortion values\n",
    "distortions = []\n",
    "for k in k_range:\n",
    "    km = KMeans(n_clusters=k, random_state=20)\n",
    "    km.fit(adata.uns['spatial_lda_108'].fillna(0))\n",
    "    distortions.append(km.inertia_)  # Inertia = distortion score\n",
    "\n",
    "# Use KneeLocator to find the optimal k\n",
    "kl = KneeLocator(k_range, distortions, curve=\"convex\", direction=\"decreasing\")\n",
    "\n",
    "# Print the optimal k\n",
    "print(f\"Optimal k found: {kl.elbow}\")\n",
    "\n",
    "# Plot elbow curve with knee marked\n",
    "plt.figure(figsize=(8, 6))\n",
    "plt.plot(k_range, distortions, 'bo-', markersize=5, label=\"Distortion\")\n",
    "plt.axvline(x=kl.elbow, color='r', linestyle=\"--\", label=f\"Optimal k = {kl.elbow}\")\n",
    "plt.xlabel(\"Number of Clusters (k)\")\n",
    "plt.ylabel(\"Distortion (Inertia)\")\n",
    "plt.title(\"Elbow Curve with KneeLocator\")\n",
    "plt.legend()\n",
    "# Save as PDF\n",
    "plt.savefig(\"F:/Alva/Final_spatial_analysis_plots/elbow_lda_35_microns_2.pdf\", format=\"pdf\")\n",
    "plt.show()"
   ]
  },
  {
   "cell_type": "markdown",
   "metadata": {},
   "source": [
    "### KMeans clustering"
   ]
  },
  {
   "cell_type": "code",
   "execution_count": null,
   "metadata": {},
   "outputs": [],
   "source": [
    "# K-Means clustering of LDA, k=10 \n",
    "\n",
    "# Radius 40 px \n",
    "adata = sm.tl.spatial_cluster(adata, df_name=\"spatial_lda_40\", method='kmeans', k=13, random_state=10, label='lda_40_k13')\n",
    "# Radius 40 px \n",
    "adata = sm.tl.spatial_cluster(adata, df_name=\"spatial_lda_77\", method='kmeans', k=15, random_state=10, label='lda_77_k15')\n",
    "# Radius 40 px \n",
    "adata = sm.tl.spatial_cluster(adata, df_name=\"spatial_lda_108\", method='kmeans', k=13, random_state=10, label='lda_108_k13')"
   ]
  },
  {
   "cell_type": "code",
   "execution_count": null,
   "metadata": {},
   "outputs": [],
   "source": [
    "# K-Means clustering of LDA, k=10 \n",
    "\n",
    "# Radius 40 px \n",
    "adata = sm.tl.spatial_cluster(adata, df_name=\"spatial_lda_40\", method='kmeans', k=10, random_state=10, label='lda_40_k10')\n",
    "# Radius 40 px \n",
    "adata = sm.tl.spatial_cluster(adata, df_name=\"spatial_lda_77\", method='kmeans', k=10, random_state=10, label='lda_77_k10')\n",
    "# Radius 40 px \n",
    "adata = sm.tl.spatial_cluster(adata, df_name=\"spatial_lda_108\", method='kmeans', k=10, random_state=10, label='lda_108_k10')"
   ]
  },
  {
   "cell_type": "markdown",
   "metadata": {},
   "source": [
    "### Barplots of clustering results"
   ]
  },
  {
   "cell_type": "code",
   "execution_count": null,
   "metadata": {},
   "outputs": [],
   "source": [
    "# Barplot of proportion of phenotypes in each LDA cluster\n",
    "sm.pl.stacked_barplot(adata, x_axis='lda_40_k13', y_axis='phenotype', subset_xaxis=None, subset_yaxis=None, order_xaxis=None, order_yaxis=None, method='percent', plot_tool='matplotlib', matplotlib_cmap=None, matplotlib_bbox_to_anchor=(1, 1.02), matplotlib_legend_loc=2, return_data=False)"
   ]
  },
  {
   "cell_type": "code",
   "execution_count": null,
   "metadata": {},
   "outputs": [],
   "source": [
    "# Barplot of proportion of phenotypes in each LDA cluster\n",
    "sm.pl.stacked_barplot(adata, x_axis='lda_77_k15', y_axis='phenotype', subset_xaxis=None, subset_yaxis=None, order_xaxis=None, order_yaxis=None, method='percent', plot_tool='matplotlib', matplotlib_cmap=None, matplotlib_bbox_to_anchor=(1, 1.02), matplotlib_legend_loc=2, return_data=False)"
   ]
  },
  {
   "cell_type": "code",
   "execution_count": null,
   "metadata": {},
   "outputs": [],
   "source": [
    "# Barplot of proportion of phenotypes in each LDA cluster\n",
    "sm.pl.stacked_barplot(adata, x_axis='lda_108_k13', y_axis='phenotype', subset_xaxis=None, subset_yaxis=None, order_xaxis=None, order_yaxis=None, method='percent', plot_tool='matplotlib', matplotlib_cmap=None, matplotlib_bbox_to_anchor=(1, 1.02), matplotlib_legend_loc=2, return_data=False)"
   ]
  },
  {
   "cell_type": "markdown",
   "metadata": {},
   "source": [
    "# Visualization"
   ]
  },
  {
   "cell_type": "markdown",
   "metadata": {},
   "source": [
    "### Visualize RCNs on top of image"
   ]
  },
  {
   "cell_type": "code",
   "execution_count": 7,
   "metadata": {},
   "outputs": [],
   "source": [
    "adata.obs['spatial_count_40_k15'] = adata.obs['spatial_count_40_k15'].astype(str)\n",
    "adata.obs['spatial_count_77_k12'] = adata.obs['spatial_count_77_k12'].astype(str)\n",
    "adata.obs['spatial_count_108_k13'] = adata.obs['spatial_count_108_k13'].astype(str)\n",
    "adata.obs['lda_40_k13'] = adata.obs['lda_40_k13'].astype(str)\n",
    "adata.obs['lda_77_k15'] = adata.obs['lda_77_k15'].astype(str)\n",
    "adata.obs['lda_108_k13'] = adata.obs['lda_108_k13'].astype(str)"
   ]
  },
  {
   "cell_type": "code",
   "execution_count": 10,
   "metadata": {},
   "outputs": [],
   "source": [
    "marker_list_with_DNA = ['DNA1','CyclinE','DNA2', 'pChk1', 'DNA3', 'Tcf1', 'pRb', 'CyclinB1', 'DNA4', 'CyclinA', 'CD11c', 'p27',\n",
    "                          'Vimentin', 'DNA5', 'TIM-3', 'PanCK', 'Wee1', 'DNA6', 'CD163', 'CyclinD1', 'p21', 'DNA7', 'pH3', 'CD45',\n",
    "                            'MPM-2', 'DNA8', 'pRPA', 'pStat1', 'CD20', 'DNA9', 'PCNA', 'Geminin', 'gH2Ax', 'DNA10', 'CD4', 'aSMA',\n",
    "                            'CD8a', 'DNA11', 'Iba1', 'PAX8', 'PD-1', 'DNA12', 'Ki67', 'FOX-P3', 'CD31', 'DNA13', 'CD4', 'FAP','NKG2a']"
   ]
  },
  {
   "cell_type": "code",
   "execution_count": 48,
   "metadata": {},
   "outputs": [],
   "source": [
    "colors = {\"0\" : \"#db82b3\", \"1\" : \"#fdf2c0\", \"2\" : \"#a6c7d1\", \"3\" : \"#fedc80\", \"4\" : \"#fffd83\", \"5\" : \"#dba4c3\", \"6\" : \"#febd87\", \"7\" : \"#bc9fda\", \"8\" : \"#eadefe\", \"9\" : \"#BADE8C\", '10' : '#6a3d9a', '11':'#ADD8E6', '12':'#e377c2', '13':'#b2df8a', '14': '#fb8072'}"
   ]
  },
  {
   "cell_type": "code",
   "execution_count": 29,
   "metadata": {},
   "outputs": [],
   "source": [
    "colors = {'3': \"#eadefe\", '10' : \"#fdf2c0\", \"9\" : \"#BADE8C\"}"
   ]
  },
  {
   "cell_type": "code",
   "execution_count": null,
   "metadata": {},
   "outputs": [],
   "source": [
    "sm.pl.image_viewer(image_path, adata, imageid = 'imageid', subset='', channel_names=marker_list_with_DNA, point_size=30, point_color = colors, overlay='lda_40_k13', x_coordinate='X_centroid', y_coordinate='Y_centroid')"
   ]
  },
  {
   "cell_type": "code",
   "execution_count": null,
   "metadata": {},
   "outputs": [],
   "source": [
    "sm.pl.image_viewer(image_path, adata, imageid = 'imageid', subset='', channel_names=marker_list_with_DNA, point_size=30, point_color = colors, overlay='lda_40_k13', x_coordinate='X_centroid', y_coordinate='Y_centroid')"
   ]
  },
  {
   "cell_type": "markdown",
   "metadata": {},
   "source": [
    "### Visualize phenotypes on top of image"
   ]
  },
  {
   "cell_type": "code",
   "execution_count": null,
   "metadata": {},
   "outputs": [],
   "source": [
    "phenotype_colors = {\"Tumor\" : \"#B1CCE3\",       \n",
    "  \"CD4_T_cells\" : \"#DA3683\",   \n",
    "  \"CD8_T_cells\" : \"#EAA09A\",\n",
    "  \"B_cells\" : \"#045275\",              \n",
    "  \"CD163_pos_DC\" : \"#F7D84D\",             \n",
    "  \"DC\" : \"#BADE8C\",                    \n",
    "  \"CD163_pos_Macrophages\" : \"#C6B4D5\",    \n",
    "  \"CD163_neg_Macrophages\" : \"#C060BD\",    \n",
    "  \"Stromal\" : \"#F7F9A3\",              \n",
    "  \"Endothelial\" : \"#EB881F\"}"
   ]
  },
  {
   "cell_type": "code",
   "execution_count": 32,
   "metadata": {},
   "outputs": [],
   "source": [
    "phenotype_colors = {\n",
    "     \"Tumor\": \"#5A79A5\",  # Darker blue\n",
    "    \"CD4_T_cells\": \"#DA3683\",  # Dark magenta\n",
    "    \"FOXP3_CD4_T_cells\": \"#FFC2D7\",  # Deeper pink\n",
    "    \"CD8_T_cells\": \"#9A1F5F\",  # Darker red\n",
    "    \"B_cells\": \"#023E73\",  # Deep navy blue\n",
    "    \"CD163_DC\": \"#C09A3D\",  # Dark gold\n",
    "    \"DC\": \"#5C883A\",  # Deep olive green\n",
    "    \"CD163_Macrophages\": \"#C060BD\",  # Muted purple\n",
    "    \"CD163_Macrophages\": \"#7A1F87\",  # Deep violet\n",
    "    \"Stromal\": \"#efeb00\",  # Darker yellow-green\n",
    "    \"Endothelial\": \"#EB881F\",  # Rich brown-orange\n",
    "}\n"
   ]
  },
  {
   "cell_type": "code",
   "execution_count": null,
   "metadata": {},
   "outputs": [],
   "source": [
    "sm.pl.image_viewer(image_path, adata, overlay = 'phenotype', point_color=phenotype_colors, subset='', channel_names = marker_list_with_DNA, x_coordinate=\"X_centroid\",y_coordinate=\"Y_centroid\", point_size=30)"
   ]
  },
  {
   "cell_type": "code",
   "execution_count": null,
   "metadata": {},
   "outputs": [],
   "source": [
    "sm.pl.image_viewer(image_path, adata, overlay = 'phenotype', point_color=phenotype_colors, subset='', channel_names = marker_list_with_DNA, x_coordinate=\"X_centroid\",y_coordinate=\"Y_centroid\", point_size=30)"
   ]
  },
  {
   "cell_type": "markdown",
   "metadata": {},
   "source": [
    "# Clustree"
   ]
  },
  {
   "cell_type": "code",
   "execution_count": null,
   "metadata": {},
   "outputs": [],
   "source": [
    "import scanpy as sc\n",
    "from pyclustree import clustree\n",
    "\n",
    "custom_columns = [\"spatial_count_40_k10\", \"spatial_count_77_k10\", \"spatial_count_108_k10\"]  # Your column names\n",
    "\n",
    "fig = clustree(\n",
    "    adata,\n",
    "    custom_columns,  # Pass the list directly\n",
    "    title=\"Clustree of spatial count\",\n",
    "    edge_weight_threshold=0.05,\n",
    "    show_fraction=True,\n",
    ")\n",
    "fig.set_size_inches(12, 7)\n",
    "fig.set_dpi(300)"
   ]
  }
 ],
 "metadata": {
  "kernelspec": {
   "display_name": "Python 3",
   "language": "python",
   "name": "python3"
  },
  "language_info": {
   "codemirror_mode": {
    "name": "ipython",
    "version": 3
   },
   "file_extension": ".py",
   "mimetype": "text/x-python",
   "name": "python",
   "nbconvert_exporter": "python",
   "pygments_lexer": "ipython3",
   "version": "3.9.19"
  }
 },
 "nbformat": 4,
 "nbformat_minor": 2
}
